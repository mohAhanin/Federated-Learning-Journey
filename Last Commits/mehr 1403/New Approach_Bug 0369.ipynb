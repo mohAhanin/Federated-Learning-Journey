{
 "cells": [
  {
   "cell_type": "code",
   "execution_count": 1,
   "id": "1236e65f-8191-41df-bfd5-0d7b31a5a40b",
   "metadata": {},
   "outputs": [],
   "source": [
    "import numpy as np\n",
    "import tensorflow as tf\n",
    "from collections import Counter\n",
    "import tensorflow_federated as tff\n",
    "import matplotlib.pyplot as plt\n",
    "from scipy import stats\n",
    "from tensorflow.keras.optimizers import Adam\n",
    "from tensorflow.keras.models import Sequential\n",
    "from tensorflow.keras.datasets import mnist\n",
    "from tensorflow.keras.layers import Conv2D, MaxPooling2D, Flatten, Dense, Dropout\n",
    "\n",
    "import nest_asyncio\n",
    "nest_asyncio.apply()\n",
    "\n",
    "\n",
    "np.random.seed(42)\n",
    "tf.random.set_seed(42)\n",
    "\n",
    "\n",
    "tff.backends.native.set_local_execution_context()"
   ]
  },
  {
   "cell_type": "code",
   "execution_count": 2,
   "id": "576b1b50-780a-4ba4-a73c-8a5687e86740",
   "metadata": {},
   "outputs": [],
   "source": [
    "(x_train_m, y_train_m), (x_test_m, y_test_m) = mnist.load_data()\n",
    "\n",
    "x_train_m = x_train_m.astype('float32') / 255.0\n",
    "x_test_m = x_test_m.astype('float32') / 255.0\n",
    "\n",
    "\n",
    "x_train_m = x_train_m.reshape((x_train_m.shape[0], -1))  \n",
    "x_test_m = x_test_m.reshape((x_test_m.shape[0], -1))    \n",
    "\n",
    "y_train_m = tf.keras.utils.to_categorical(y_train_m, 10)\n",
    "y_test_m = tf.keras.utils.to_categorical(y_test_m, 10)"
   ]
  },
  {
   "cell_type": "code",
   "execution_count": 6,
   "id": "e7baa848",
   "metadata": {},
   "outputs": [
    {
     "data": {
      "text/plain": [
       "((60000, 10), (10000, 10))"
      ]
     },
     "execution_count": 6,
     "metadata": {},
     "output_type": "execute_result"
    }
   ],
   "source": [
    "y_train_m.shape, y_test_m.shape"
   ]
  },
  {
   "cell_type": "code",
   "execution_count": 7,
   "id": "0d26f98a-9a4d-4a0e-a52d-ca606295cab6",
   "metadata": {},
   "outputs": [],
   "source": [
    "def create_mnist_mlp_model():\n",
    "    model = Sequential()\n",
    "    model.add(Dense(512, activation='relu', input_shape=(784,)))     \n",
    "    model.add(Dropout(0.3))\n",
    "    model.add(Dense(512, activation='relu'))\n",
    "    model.add(Dropout(0.5))\n",
    "    model.add(Dense(10, activation='softmax'))     \n",
    "    optimizer = Adam(learning_rate=0.001)\n",
    "    model.compile(loss='categorical_crossentropy', optimizer=optimizer, metrics=['accuracy'])     \n",
    "    return model"
   ]
  },
  {
   "cell_type": "code",
   "execution_count": 11,
   "id": "c6510fa4",
   "metadata": {},
   "outputs": [
    {
     "data": {
      "text/plain": [
       "((60000, 784), (10000, 784))"
      ]
     },
     "execution_count": 11,
     "metadata": {},
     "output_type": "execute_result"
    }
   ],
   "source": [
    "x_train_m.shape, x_test_m.shape"
   ]
  },
  {
   "cell_type": "code",
   "execution_count": 13,
   "id": "e4ed1662-76c4-4c7c-b77b-69c7704ab3db",
   "metadata": {},
   "outputs": [
    {
     "name": "stdout",
     "output_type": "stream",
     "text": [
      "Epoch 1/5\n",
      "188/188 [==============================] - 1s 7ms/step - loss: 0.6311 - accuracy: 0.8008\n",
      "Epoch 2/5\n",
      "188/188 [==============================] - 1s 7ms/step - loss: 0.2696 - accuracy: 0.9170\n",
      "Epoch 3/5\n",
      "188/188 [==============================] - 1s 7ms/step - loss: 0.1683 - accuracy: 0.9498\n",
      "Epoch 4/5\n",
      "188/188 [==============================] - 1s 7ms/step - loss: 0.1356 - accuracy: 0.9587\n",
      "Epoch 5/5\n",
      "188/188 [==============================] - 1s 6ms/step - loss: 0.0954 - accuracy: 0.9668\n",
      "Epoch 1/5\n",
      "188/188 [==============================] - 1s 6ms/step - loss: 0.6482 - accuracy: 0.7945\n",
      "Epoch 2/5\n",
      "188/188 [==============================] - 1s 6ms/step - loss: 0.2820 - accuracy: 0.9172\n",
      "Epoch 3/5\n",
      "188/188 [==============================] - 1s 6ms/step - loss: 0.1857 - accuracy: 0.9420\n",
      "Epoch 4/5\n",
      "188/188 [==============================] - 1s 7ms/step - loss: 0.1484 - accuracy: 0.9537\n",
      "Epoch 5/5\n",
      "188/188 [==============================] - 1s 7ms/step - loss: 0.1082 - accuracy: 0.9660\n",
      "Epoch 1/5\n",
      "188/188 [==============================] - 1s 7ms/step - loss: 0.6470 - accuracy: 0.7930\n",
      "Epoch 2/5\n",
      "188/188 [==============================] - 1s 6ms/step - loss: 0.2611 - accuracy: 0.9195\n",
      "Epoch 3/5\n",
      "188/188 [==============================] - 1s 6ms/step - loss: 0.1921 - accuracy: 0.9370\n",
      "Epoch 4/5\n",
      "188/188 [==============================] - 1s 6ms/step - loss: 0.1418 - accuracy: 0.9548\n",
      "Epoch 5/5\n",
      "188/188 [==============================] - 1s 6ms/step - loss: 0.1054 - accuracy: 0.9652\n",
      "Epoch 1/5\n",
      "188/188 [==============================] - 1s 6ms/step - loss: 0.6293 - accuracy: 0.7967\n",
      "Epoch 2/5\n",
      "188/188 [==============================] - 1s 6ms/step - loss: 0.2595 - accuracy: 0.9215\n",
      "Epoch 3/5\n",
      "188/188 [==============================] - 1s 6ms/step - loss: 0.1896 - accuracy: 0.9405\n",
      "Epoch 4/5\n",
      "188/188 [==============================] - 1s 6ms/step - loss: 0.1371 - accuracy: 0.9572\n",
      "Epoch 5/5\n",
      "188/188 [==============================] - 1s 7ms/step - loss: 0.0952 - accuracy: 0.9702\n",
      "Epoch 1/5\n",
      "188/188 [==============================] - 1s 7ms/step - loss: 0.6764 - accuracy: 0.7875\n",
      "Epoch 2/5\n",
      "188/188 [==============================] - 1s 6ms/step - loss: 0.2922 - accuracy: 0.9125\n",
      "Epoch 3/5\n",
      "188/188 [==============================] - 1s 6ms/step - loss: 0.1991 - accuracy: 0.9370\n",
      "Epoch 4/5\n",
      "188/188 [==============================] - 1s 6ms/step - loss: 0.1681 - accuracy: 0.9492\n",
      "Epoch 5/5\n",
      "188/188 [==============================] - 1s 6ms/step - loss: 0.1167 - accuracy: 0.9635\n",
      "Epoch 1/5\n",
      "188/188 [==============================] - 1s 7ms/step - loss: 0.6323 - accuracy: 0.8030\n",
      "Epoch 2/5\n",
      "188/188 [==============================] - 1s 6ms/step - loss: 0.2756 - accuracy: 0.9147\n",
      "Epoch 3/5\n",
      "188/188 [==============================] - 1s 7ms/step - loss: 0.1852 - accuracy: 0.9408\n",
      "Epoch 4/5\n",
      "188/188 [==============================] - 1s 7ms/step - loss: 0.1386 - accuracy: 0.9578\n",
      "Epoch 5/5\n",
      "188/188 [==============================] - 1s 7ms/step - loss: 0.1065 - accuracy: 0.9652\n",
      "Epoch 1/5\n",
      "188/188 [==============================] - 2s 10ms/step - loss: 0.6617 - accuracy: 0.7972\n",
      "Epoch 2/5\n",
      "188/188 [==============================] - 1s 7ms/step - loss: 0.2812 - accuracy: 0.9150\n",
      "Epoch 3/5\n",
      "188/188 [==============================] - 1s 7ms/step - loss: 0.1874 - accuracy: 0.9415\n",
      "Epoch 4/5\n",
      "188/188 [==============================] - 2s 8ms/step - loss: 0.1482 - accuracy: 0.9537\n",
      "Epoch 5/5\n",
      "188/188 [==============================] - 2s 9ms/step - loss: 0.1102 - accuracy: 0.9668: 0s - loss: 0.1113 - \n",
      "Epoch 1/5\n",
      "188/188 [==============================] - 2s 13ms/step - loss: 0.6405 - accuracy: 0.7930\n",
      "Epoch 2/5\n",
      "188/188 [==============================] - 3s 14ms/step - loss: 0.2785 - accuracy: 0.9128\n",
      "Epoch 3/5\n",
      "188/188 [==============================] - 2s 9ms/step - loss: 0.1903 - accuracy: 0.9398\n",
      "Epoch 4/5\n",
      "188/188 [==============================] - 2s 8ms/step - loss: 0.1391 - accuracy: 0.9573\n",
      "Epoch 5/5\n",
      "188/188 [==============================] - 1s 8ms/step - loss: 0.1265 - accuracy: 0.9587\n",
      "Epoch 1/5\n",
      "188/188 [==============================] - 2s 12ms/step - loss: 0.6710 - accuracy: 0.7858\n",
      "Epoch 2/5\n",
      "188/188 [==============================] - 2s 9ms/step - loss: 0.2872 - accuracy: 0.9138\n",
      "Epoch 3/5\n",
      "188/188 [==============================] - 2s 8ms/step - loss: 0.2006 - accuracy: 0.9390\n",
      "Epoch 4/5\n",
      "188/188 [==============================] - 2s 9ms/step - loss: 0.1414 - accuracy: 0.9577\n",
      "Epoch 5/5\n",
      "188/188 [==============================] - 1s 8ms/step - loss: 0.1148 - accuracy: 0.9625\n",
      "Epoch 1/5\n",
      "188/188 [==============================] - 2s 9ms/step - loss: 0.6416 - accuracy: 0.7952\n",
      "Epoch 2/5\n",
      "188/188 [==============================] - 1s 8ms/step - loss: 0.2638 - accuracy: 0.9217\n",
      "Epoch 3/5\n",
      "188/188 [==============================] - 1s 8ms/step - loss: 0.1826 - accuracy: 0.9455\n",
      "Epoch 4/5\n",
      "188/188 [==============================] - 2s 8ms/step - loss: 0.1300 - accuracy: 0.9570\n",
      "Epoch 5/5\n",
      "188/188 [==============================] - 2s 8ms/step - loss: 0.1134 - accuracy: 0.9652\n",
      "Epoch 1/5\n",
      "188/188 [==============================] - 2s 10ms/step - loss: 1.8036 - accuracy: 0.3897\n",
      "Epoch 2/5\n",
      "188/188 [==============================] - 2s 9ms/step - loss: 0.9033 - accuracy: 0.6797\n",
      "Epoch 3/5\n",
      "188/188 [==============================] - 1s 8ms/step - loss: 0.6658 - accuracy: 0.7895\n",
      "Epoch 4/5\n",
      "188/188 [==============================] - 1s 8ms/step - loss: 0.5362 - accuracy: 0.8313\n",
      "Epoch 5/5\n",
      "188/188 [==============================] - 2s 8ms/step - loss: 0.4690 - accuracy: 0.8522\n",
      "Epoch 1/5\n",
      "188/188 [==============================] - 2s 10ms/step - loss: 0.6377 - accuracy: 0.7990\n",
      "Epoch 2/5\n",
      "188/188 [==============================] - 1s 8ms/step - loss: 0.2764 - accuracy: 0.9182\n",
      "Epoch 3/5\n",
      "188/188 [==============================] - 2s 8ms/step - loss: 0.2066 - accuracy: 0.9343\n",
      "Epoch 4/5\n",
      "188/188 [==============================] - 2s 8ms/step - loss: 0.1406 - accuracy: 0.9587\n",
      "Epoch 5/5\n",
      "188/188 [==============================] - 2s 9ms/step - loss: 0.1165 - accuracy: 0.9608\n",
      "Epoch 1/5\n",
      "188/188 [==============================] - 2s 8ms/step - loss: 0.6371 - accuracy: 0.7960\n",
      "Epoch 2/5\n",
      "188/188 [==============================] - 2s 8ms/step - loss: 0.2745 - accuracy: 0.9147\n",
      "Epoch 3/5\n",
      "188/188 [==============================] - 2s 8ms/step - loss: 0.1981 - accuracy: 0.9373\n",
      "Epoch 4/5\n",
      "188/188 [==============================] - 2s 10ms/step - loss: 0.1410 - accuracy: 0.9570\n",
      "Epoch 5/5\n",
      "188/188 [==============================] - 2s 9ms/step - loss: 0.1156 - accuracy: 0.9635\n",
      "Epoch 1/5\n",
      "188/188 [==============================] - 2s 9ms/step - loss: 1.7622 - accuracy: 0.4297\n",
      "Epoch 2/5\n",
      "188/188 [==============================] - 2s 8ms/step - loss: 0.8697 - accuracy: 0.7082\n",
      "Epoch 3/5\n",
      "188/188 [==============================] - 2s 9ms/step - loss: 0.6377 - accuracy: 0.8017\n",
      "Epoch 4/5\n",
      "188/188 [==============================] - 2s 9ms/step - loss: 0.5226 - accuracy: 0.8378\n",
      "Epoch 5/5\n",
      "188/188 [==============================] - 2s 9ms/step - loss: 0.4650 - accuracy: 0.8588\n",
      "Epoch 1/5\n",
      "188/188 [==============================] - 2s 11ms/step - loss: 0.6580 - accuracy: 0.7935\n",
      "Epoch 2/5\n",
      "188/188 [==============================] - 2s 8ms/step - loss: 0.2901 - accuracy: 0.9127\n",
      "Epoch 3/5\n",
      "188/188 [==============================] - 2s 9ms/step - loss: 0.1919 - accuracy: 0.9382\n",
      "Epoch 4/5\n",
      "188/188 [==============================] - 2s 9ms/step - loss: 0.1615 - accuracy: 0.9488\n",
      "Epoch 5/5\n",
      "188/188 [==============================] - 2s 10ms/step - loss: 0.1215 - accuracy: 0.9622\n",
      "Epoch 1/5\n",
      "188/188 [==============================] - 3s 13ms/step - loss: 0.6277 - accuracy: 0.7962\n",
      "Epoch 2/5\n",
      "188/188 [==============================] - 3s 14ms/step - loss: 0.2687 - accuracy: 0.9190\n",
      "Epoch 3/5\n",
      "188/188 [==============================] - 2s 10ms/step - loss: 0.1885 - accuracy: 0.9402\n",
      "Epoch 4/5\n",
      "188/188 [==============================] - 2s 9ms/step - loss: 0.1329 - accuracy: 0.9553\n",
      "Epoch 5/5\n",
      "188/188 [==============================] - 2s 9ms/step - loss: 0.1062 - accuracy: 0.9653\n",
      "Epoch 1/5\n",
      "188/188 [==============================] - 2s 10ms/step - loss: 1.7746 - accuracy: 0.4172\n",
      "Epoch 2/5\n",
      "188/188 [==============================] - 2s 11ms/step - loss: 0.8580 - accuracy: 0.7113\n",
      "Epoch 3/5\n",
      "188/188 [==============================] - 2s 13ms/step - loss: 0.6404 - accuracy: 0.7935\n",
      "Epoch 4/5\n",
      "188/188 [==============================] - 2s 8ms/step - loss: 0.5174 - accuracy: 0.8382\n",
      "Epoch 5/5\n",
      "188/188 [==============================] - 2s 8ms/step - loss: 0.4608 - accuracy: 0.8573\n",
      "Epoch 1/5\n",
      "188/188 [==============================] - 2s 10ms/step - loss: 0.6464 - accuracy: 0.7917\n",
      "Epoch 2/5\n",
      "188/188 [==============================] - 2s 9ms/step - loss: 0.2770 - accuracy: 0.9135\n",
      "Epoch 3/5\n",
      "188/188 [==============================] - 2s 8ms/step - loss: 0.1852 - accuracy: 0.9423\n",
      "Epoch 4/5\n",
      "188/188 [==============================] - 2s 9ms/step - loss: 0.1401 - accuracy: 0.9538\n",
      "Epoch 5/5\n",
      "188/188 [==============================] - 2s 9ms/step - loss: 0.1145 - accuracy: 0.9602\n",
      "Epoch 1/5\n",
      "188/188 [==============================] - 2s 10ms/step - loss: 0.6453 - accuracy: 0.7960\n",
      "Epoch 2/5\n",
      "188/188 [==============================] - 2s 10ms/step - loss: 0.2778 - accuracy: 0.9148\n",
      "Epoch 3/5\n",
      "188/188 [==============================] - 2s 9ms/step - loss: 0.1944 - accuracy: 0.9375\n",
      "Epoch 4/5\n",
      "188/188 [==============================] - 2s 8ms/step - loss: 0.1454 - accuracy: 0.9555\n",
      "Epoch 5/5\n",
      "188/188 [==============================] - 1s 8ms/step - loss: 0.1149 - accuracy: 0.9635\n",
      "Epoch 1/5\n",
      "188/188 [==============================] - 1s 7ms/step - loss: 1.8000 - accuracy: 0.3930\n",
      "Epoch 2/5\n",
      "188/188 [==============================] - 1s 7ms/step - loss: 0.8700 - accuracy: 0.7122\n",
      "Epoch 3/5\n",
      "188/188 [==============================] - 1s 7ms/step - loss: 0.6307 - accuracy: 0.8002\n",
      "Epoch 4/5\n",
      "188/188 [==============================] - 1s 7ms/step - loss: 0.5184 - accuracy: 0.8380\n",
      "Epoch 5/5\n",
      "188/188 [==============================] - 1s 7ms/step - loss: 0.4507 - accuracy: 0.8623\n"
     ]
    }
   ],
   "source": [
    "def split_data(x, y, num_splits):\n",
    "    indices = np.arange(x.shape[0])\n",
    "    np.random.shuffle(indices)\n",
    "    split_indices = np.array_split(indices, num_splits)\n",
    "    split_data = [(x[indices], y[indices]) for indices in split_indices]  \n",
    "    return split_data\n",
    "    \n",
    "num_models = 10\n",
    "client_data_m = split_data(x_train_m, y_train_m, num_models)\n",
    "\n",
    "accuracy_no_bug = []  # دقت برای حالت بدون نرمال‌سازی دوباره\n",
    "accuracy_with_bug = []  # دقت برای حالت با نرمال‌سازی دوباره برای کلاینت 3\n",
    "client_models_m = []  # لیست برای ذخیره مدل‌های هر کلاینت\n",
    "\n",
    "# حالت بدون نرمال‌سازی دوباره\n",
    "for i in range(len(client_data_m)):\n",
    "    model_data_m = client_data_m[i]\n",
    "    model_mnist = create_mnist_mlp_model()\n",
    "    \n",
    "    # آموزش مدل\n",
    "    model_mnist.fit(model_data_m[0], model_data_m[1], epochs=5, batch_size=32, verbose=1)\n",
    "    client_models_m.append(model_mnist)\n",
    "    \n",
    "    # ارزیابی دقت مدل بر روی داده‌های تست\n",
    "    loss, accuracy = model_mnist.evaluate(x_test_m, y_test_m, verbose=0)\n",
    "    accuracy_no_bug.append(accuracy)  # ذخیره دقت برای حالت بدون نرمال‌سازی دوباره\n",
    "\n",
    "# حالا، برای آموزش با نرمال‌سازی دوباره برای کلاینت 3\n",
    "client_models_m = []  # لیست برای ذخیره مدل‌های هر کلاینت (دوباره خالی می‌شود)\n",
    "for i in range(len(client_data_m)):\n",
    "    model_data_m = client_data_m[i]\n",
    "    model_mnist = create_mnist_mlp_model()\n",
    "    if i in [0,3,6,9]: \n",
    "        model_data_m = (model_data_m[0] / 255.0, model_data_m[1])\n",
    "    \n",
    "    # آموزش مدل\n",
    "    model_mnist.fit(model_data_m[0], model_data_m[1], epochs=5, batch_size=32, verbose=1)\n",
    "    client_models_m.append(model_mnist)\n",
    "    \n",
    "    # ارزیابی دقت مدل بر روی داده‌های تست\n",
    "    loss, accuracy = model_mnist.evaluate(x_test_m, y_test_m, verbose=0)\n",
    "    accuracy_with_bug.append(accuracy)  # ذخیره دقت برای حالت با نرمال‌سازی دوباره"
   ]
  },
  {
   "cell_type": "markdown",
   "id": "d47f391c",
   "metadata": {},
   "source": [
    "## Delta class function"
   ]
  },
  {
   "cell_type": "code",
   "execution_count": 14,
   "id": "fb7d2e9f",
   "metadata": {},
   "outputs": [
    {
     "name": "stdout",
     "output_type": "stream",
     "text": [
      "Distance Matrix:\n",
      "[[   0. 2087. 2029.  805. 1931. 1868.  867. 1975. 1973.  863.]\n",
      " [2087.    0.  649. 1977.  628.  667. 1968.  587.  543. 2106.]\n",
      " [2029.  649.    0. 1893.  616.  644. 1932.  617.  600. 2074.]\n",
      " [ 805. 1977. 1893.    0. 1792. 1744.  808. 1841. 1847.  729.]\n",
      " [1931.  628.  616. 1792.    0.  467. 1851.  467.  474. 1950.]\n",
      " [1868.  667.  644. 1744.  467.    0. 1779.  506.  528. 1879.]\n",
      " [ 867. 1968. 1932.  808. 1851. 1779.    0. 1855. 1867.  777.]\n",
      " [1975.  587.  617. 1841.  467.  506. 1855.    0.  469. 1995.]\n",
      " [1973.  543.  600. 1847.  474.  528. 1867.  469.    0. 1998.]\n",
      " [ 863. 2106. 2074.  729. 1950. 1879.  777. 1995. 1998.    0.]]\n"
     ]
    }
   ],
   "source": [
    "def delta_class(model1, model2, x_test, y_test):\n",
    "    # Make predictions on the test data\n",
    "    predictions1 = np.argmax(model1.predict(x_test), axis=1)\n",
    "    predictions2 = np.argmax(model2.predict(x_test), axis=1)\n",
    "    \n",
    "    # Count the number of differing predictions\n",
    "    count = np.sum(predictions1 != predictions2)\n",
    "    \n",
    "    return count\n",
    "\n",
    "# Initialize the distance matrix\n",
    "num_clients = len(client_models_m)\n",
    "distance_matrix = np.zeros((num_clients, num_clients))\n",
    "\n",
    "# Calculate the delta class for each pair of models\n",
    "for i in range(num_clients):\n",
    "    for j in range(i + 1, num_clients):\n",
    "        distance_matrix[i, j] = delta_class(client_models_m[i], client_models_m[j], x_test_m, y_test_m)\n",
    "        distance_matrix[j, i] = distance_matrix[i, j]  # Symmetric matrix\n",
    "\n",
    "# Print the distance matrix\n",
    "print(\"Distance Matrix:\")\n",
    "print(distance_matrix)\n"
   ]
  },
  {
   "cell_type": "markdown",
   "id": "77a0e51f",
   "metadata": {},
   "source": [
    "## Delta Score function"
   ]
  },
  {
   "cell_type": "code",
   "execution_count": 16,
   "id": "ad8164f6",
   "metadata": {},
   "outputs": [
    {
     "name": "stdout",
     "output_type": "stream",
     "text": [
      "Delta Score Matrix:\n",
      "[[  0. 667. 613.  34. 477. 457.  35. 504. 470.  41.]\n",
      " [667.   0. 993. 622. 969. 940. 633. 955. 901. 602.]\n",
      " [613. 993.   0. 597. 927. 928. 612. 886. 884. 594.]\n",
      " [ 34. 622. 597.   0. 480. 457.  28. 520. 467.  34.]\n",
      " [477. 969. 927. 480.   0. 750. 472. 808. 743. 467.]\n",
      " [457. 940. 928. 457. 750.   0. 435. 782. 754. 420.]\n",
      " [ 35. 633. 612.  28. 472. 435.   0. 512. 468.  32.]\n",
      " [504. 955. 886. 520. 808. 782. 512.   0. 764. 494.]\n",
      " [470. 901. 884. 467. 743. 754. 468. 764.   0. 452.]\n",
      " [ 41. 602. 594.  34. 467. 420.  32. 494. 452.   0.]]\n"
     ]
    }
   ],
   "source": [
    "def delta_score(model1, model2, x_test, threshold=0.1):\n",
    "    # Make predictions on the test data\n",
    "    predictions1 = model1.predict(x_test)\n",
    "    predictions2 = model2.predict(x_test)\n",
    "    \n",
    "    # Get the predicted labels and their probabilities\n",
    "    labels1 = np.argmax(predictions1, axis=1)\n",
    "    labels2 = np.argmax(predictions2, axis=1)\n",
    "    \n",
    "    count = 0\n",
    "    for i in range(len(labels1)):\n",
    "        if labels1[i] == labels2[i]:  # If the predicted labels are the same\n",
    "            prob1 = predictions1[i][labels1[i]]\n",
    "            prob2 = predictions2[i][labels2[i]]\n",
    "            if abs(prob1 - prob2) > threshold:  # If the absolute difference in probabilities is greater than the threshold\n",
    "                count += 1\n",
    "    \n",
    "    return count\n",
    "\n",
    "# Initialize the distance matrix\n",
    "num_clients = len(client_models_m)\n",
    "delta_score_matrix = np.zeros((num_clients, num_clients))\n",
    "\n",
    "# Calculate the delta score for each pair of models\n",
    "for i in range(num_clients):\n",
    "    for j in range(i + 1, num_clients):\n",
    "        delta_score_matrix[i, j] = delta_score(client_models_m[i], client_models_m[j], x_test_m)\n",
    "        delta_score_matrix[j, i] = delta_score_matrix[i, j]  # Symmetric matrix\n",
    "\n",
    "# Print the delta score matrix\n",
    "print(\"Delta Score Matrix:\")\n",
    "print(delta_score_matrix)\n"
   ]
  },
  {
   "cell_type": "markdown",
   "id": "11112839",
   "metadata": {},
   "source": [
    "## KS function"
   ]
  },
  {
   "cell_type": "code",
   "execution_count": 24,
   "id": "8d651e0e",
   "metadata": {},
   "outputs": [],
   "source": [
    "from scipy.stats import ks_2samp\n",
    "\n",
    "def ks_test(model1, model2, x_test):\n",
    "    # Make predictions on the test data\n",
    "    predictions1 = model1.predict(x_test)\n",
    "    predictions2 = model2.predict(x_test)\n",
    "    \n",
    "    # Initialize a list to store KS statistics for each class\n",
    "    ks_stats = []\n",
    "    \n",
    "    # Perform KS test for each class and store the KS statistic\n",
    "    for i in range(predictions1.shape[1]):\n",
    "        ks_stat, _ = ks_2samp(predictions1[:, i], predictions2[:, i])\n",
    "        ks_stats.append(ks_stat)\n",
    "    \n",
    "    return ks_stats\n"
   ]
  },
  {
   "cell_type": "code",
   "execution_count": 25,
   "id": "91c37ce9",
   "metadata": {},
   "outputs": [
    {
     "name": "stdout",
     "output_type": "stream",
     "text": [
      "KS Test Statistic Matrix:\n",
      "[[0.      0.89308 0.89359 0.0109  0.89409 0.89304 0.01168 0.89344 0.89373\n",
      "  0.0105 ]\n",
      " [0.89308 0.      0.05845 0.89362 0.12517 0.09345 0.89351 0.08208 0.08899\n",
      "  0.8942 ]\n",
      " [0.89359 0.05845 0.      0.89396 0.10461 0.07841 0.89394 0.0722  0.07273\n",
      "  0.89454]\n",
      " [0.0109  0.89362 0.89396 0.      0.89438 0.89352 0.00935 0.89381 0.89414\n",
      "  0.00649]\n",
      " [0.89409 0.12517 0.10461 0.89438 0.      0.08605 0.89432 0.07244 0.06634\n",
      "  0.8949 ]\n",
      " [0.89304 0.09345 0.07841 0.89352 0.08605 0.      0.89336 0.08098 0.08681\n",
      "  0.89403]\n",
      " [0.01168 0.89351 0.89394 0.00935 0.89432 0.89336 0.      0.8938  0.89408\n",
      "  0.0101 ]\n",
      " [0.89344 0.08208 0.0722  0.89381 0.07244 0.08098 0.8938  0.      0.0471\n",
      "  0.89446]\n",
      " [0.89373 0.08899 0.07273 0.89414 0.06634 0.08681 0.89408 0.0471  0.\n",
      "  0.89465]\n",
      " [0.0105  0.8942  0.89454 0.00649 0.8949  0.89403 0.0101  0.89446 0.89465\n",
      "  0.     ]]\n"
     ]
    }
   ],
   "source": [
    "# Initialize a matrix to store KS test results\n",
    "num_clients = len(client_models_m)\n",
    "ks_stat_matrix = np.zeros((num_clients, num_clients))\n",
    "\n",
    "# Calculate the KS test for each pair of models\n",
    "for i in range(num_clients):\n",
    "    for j in range(i + 1, num_clients):\n",
    "        ks_stats = ks_test(client_models_m[i], client_models_m[j], x_test_m)\n",
    "        ks_stat_matrix[i, j] = np.mean(ks_stats)\n",
    "        ks_stat_matrix[j, i] = ks_stat_matrix[i, j]  # Symmetric matrix\n",
    "\n",
    "# Print the KS test statistic matrix\n",
    "print(\"KS Test Statistic Matrix:\")\n",
    "print(ks_stat_matrix)\n"
   ]
  },
  {
   "cell_type": "markdown",
   "id": "1acda574",
   "metadata": {},
   "source": [
    "## chi"
   ]
  },
  {
   "cell_type": "code",
   "execution_count": 26,
   "id": "9bab56c3",
   "metadata": {},
   "outputs": [],
   "source": [
    "from scipy.stats import chi2_contingency\n",
    "\n",
    "def chi_square_test(model1, model2, x_test):\n",
    "    # Make predictions on the test data\n",
    "    predictions1 = np.argmax(model1.predict(x_test), axis=1)\n",
    "    predictions2 = np.argmax(model2.predict(x_test), axis=1)\n",
    "    \n",
    "    # Create a contingency table\n",
    "    contingency_table = np.zeros((10, 10))\n",
    "    for i in range(len(predictions1)):\n",
    "        contingency_table[predictions1[i], predictions2[i]] += 1\n",
    "    \n",
    "    # Perform Chi-Square test\n",
    "    chi2_stat, p_value, _, _ = chi2_contingency(contingency_table)\n",
    "    \n",
    "    return chi2_stat\n"
   ]
  },
  {
   "cell_type": "code",
   "execution_count": 27,
   "id": "88617b8a",
   "metadata": {},
   "outputs": [
    {
     "name": "stdout",
     "output_type": "stream",
     "text": [
      "Chi-Square Test Statistic Matrix:\n",
      "[[    0.         58631.32448507 59020.23089166 74907.01631594\n",
      "  59988.94075193 60675.94848906 73582.50822956 59410.20151447\n",
      "  59605.71404062 74020.55458926]\n",
      " [58631.32448507     0.         77724.63242927 60697.06459551\n",
      "  77960.6171941  77358.44624229 60677.22905001 78659.28278013\n",
      "  79476.48782308 59298.87634242]\n",
      " [59020.23089166 77724.63242927     0.         61614.00798636\n",
      "  78365.35110997 78069.13182678 60708.55991072 78410.42800881\n",
      "  78682.50117303 59331.88834187]\n",
      " [74907.01631594 60697.06459551 61614.00798636     0.\n",
      "  62786.20008506 63136.41747253 74355.09129194 62047.43467581\n",
      "  62034.92189424 75767.33836208]\n",
      " [59988.94075193 77960.6171941  78365.35110997 62786.20008506\n",
      "      0.         80940.60615414 61560.01332318 80880.75471021\n",
      "  80768.19365113 60710.82044645]\n",
      " [60675.94848906 77358.44624229 78069.13182678 63136.41747253\n",
      "  80940.60615414     0.         62205.10289165 80145.91619682\n",
      "  79772.64394083 61324.08159264]\n",
      " [73582.50822956 60677.22905001 60708.55991072 74355.09129194\n",
      "  61560.01332318 62205.10289165     0.         61495.80348089\n",
      "  61476.35924089 74913.69421729]\n",
      " [59410.20151447 78659.28278013 78410.42800881 62047.43467581\n",
      "  80880.75471021 80145.91619682 61495.80348089     0.\n",
      "  80805.23606486 60040.38706694]\n",
      " [59605.71404062 79476.48782308 78682.50117303 62034.92189424\n",
      "  80768.19365113 79772.64394083 61476.35924089 80805.23606486\n",
      "      0.         60125.83893124]\n",
      " [74020.55458926 59298.87634242 59331.88834187 75767.33836208\n",
      "  60710.82044645 61324.08159264 74913.69421729 60040.38706694\n",
      "  60125.83893124     0.        ]]\n"
     ]
    }
   ],
   "source": [
    "# Initialize a matrix to store Chi-Square test results\n",
    "num_clients = len(client_models_m)\n",
    "chi2_stat_matrix = np.zeros((num_clients, num_clients))\n",
    "\n",
    "# Calculate the Chi-Square test for each pair of models\n",
    "for i in range(num_clients):\n",
    "    for j in range(i + 1, num_clients):\n",
    "        chi2_stat = chi_square_test(client_models_m[i], client_models_m[j], x_test_m)\n",
    "        chi2_stat_matrix[i, j] = chi2_stat\n",
    "        chi2_stat_matrix[j, i] = chi2_stat  # Symmetric matrix\n",
    "\n",
    "# Print the Chi-Square test statistic matrix\n",
    "print(\"Chi-Square Test Statistic Matrix:\")\n",
    "print(chi2_stat_matrix)\n"
   ]
  },
  {
   "cell_type": "code",
   "execution_count": 19,
   "id": "ebd6b2d5",
   "metadata": {},
   "outputs": [
    {
     "data": {
      "text/plain": [
       "array([0, 4, 5, 6, 9], dtype=int64)"
      ]
     },
     "execution_count": 19,
     "metadata": {},
     "output_type": "execute_result"
    }
   ],
   "source": [
    "def meancal(matrix):\n",
    "    temp = 0\n",
    "    x = matrix.shape[0]    \n",
    "    arrmean = []\n",
    "    \n",
    "    for i in range(0,x):\n",
    "        #print(matrix[i].mean())\n",
    "        temp = (matrix[i].mean())\n",
    "        arrmean.append(temp)\n",
    "    return arrmean\n",
    "temp = meancal(distance_matrix)\n",
    "def iqrfunc(nparray, multiplier = 1.5):\n",
    "    data = np.array(nparray)\n",
    "    q1 = np.percentile(data,25)\n",
    "    q3 = np.percentile(data,75)\n",
    "    iqr = q3 -q1\n",
    "    lower_bound = q1-(multiplier*1.5)\n",
    "    upper_bound = q3+(multiplier*1.5)\n",
    "    outliers = np.where((data<lower_bound) | (data>upper_bound))[0]\n",
    "    return outliers\n",
    "                        \n",
    "iqrfunc(temp)"
   ]
  },
  {
   "cell_type": "code",
   "execution_count": null,
   "id": "c5796fea",
   "metadata": {},
   "outputs": [],
   "source": []
  },
  {
   "cell_type": "code",
   "execution_count": 5,
   "id": "19cf429c-9f38-4005-8489-0dd34c1c9393",
   "metadata": {},
   "outputs": [
    {
     "data": {
      "image/png": "[encoded data removed]",
      "text/plain": [
       "<Figure size 1000x600 with 1 Axes>"
      ]
     },
     "metadata": {},
     "output_type": "display_data"
    }
   ],
   "source": [
    "# ایجاد پلات\n",
    "# تعریف تعداد کلاینت‌ها به صورت دینامیک\n",
    "num_models = len(client_data_m)  # یا اگر از num_models استفاده می‌کنید: num_clients = num_models\n",
    "clients = [f'Client {i+1}' for i in range(num_models)]  # ایجاد نام کلاینت‌ها به صورت خودکار\n",
    "\n",
    "x = np.arange(len(clients))  # محور x\n",
    "\n",
    "plt.figure(figsize=(10,6))\n",
    "\n",
    "# ایجاد دو نمودار میله‌ای برای دقت‌ها\n",
    "plt.bar(x - 0.2, accuracy_no_bug, 0.4, label='No Bug', color='skyblue')\n",
    "plt.bar(x + 0.2, accuracy_with_bug, 0.4, label='With Bug (Client 3)', color='salmon')\n",
    "\n",
    "# برچسب‌ها و عنوان\n",
    "plt.xlabel('Clients')\n",
    "plt.ylabel('Accuracy')\n",
    "plt.title('Model Accuracy Comparison: With vs Without Bug in Client 3')\n",
    "plt.xticks(x, clients)\n",
    "plt.ylim(0.6, 1.0)  # محدوده دقت بین 0.6 تا 1.0\n",
    "\n",
    "# نمایش راهنما و پلات\n",
    "plt.legend()\n",
    "plt.grid(True)\n",
    "plt.show()"
   ]
  },
  {
   "cell_type": "code",
   "execution_count": 7,
   "id": "12ee719d-d575-4c04-878e-225beee917a2",
   "metadata": {},
   "outputs": [],
   "source": [
    "def delta_class(models, x_test):\n",
    "    num_models = len(models)\n",
    "    preds = [model.predict(x_test).argmax(axis=1) for model in models]         # پیش‌بینی‌ها برای هر مدل\n",
    "    diffs_matrix = np.zeros((num_models, num_models), dtype=int)    # ماتریس مربعی برای ذخیره تفاوت‌ها\n",
    "    for i in range(num_models):       # پر کردن ماتریس با تفاوت پیش‌بینی‌ها\n",
    "        for j in range(i+1, num_models):\n",
    "            diffs = np.sum(preds[i] != preds[j])  # تعداد تفاوت‌های پیش‌بینی بین مدل i و مدل j\n",
    "            diffs_matrix[i, j] = diffs\n",
    "            diffs_matrix[j, i] = diffs  # ماتریس متقارن است\n",
    "    return diffs_matrix\n",
    "\n",
    "def delta_score(models, x_test):\n",
    "    num_models = len(models)\n",
    "    preds = [model.predict(x_test) for model in models]     # پیش‌بینی‌ها برای هر مدل\n",
    "    diffs_matrix = np.zeros((num_models, num_models))      # ماتریس تفاوت‌ها  \n",
    "    for i in range(num_models):      # محاسبه تفاوت‌ها برای هر جفت مدل\n",
    "        for j in range(i+1, num_models):\n",
    "            diffs = np.mean(np.abs(preds[i] - preds[j]))  # میانگین تفاوت مطلق\n",
    "            diffs_matrix[i, j] = diffs\n",
    "            diffs_matrix[j, i] = diffs  # متقارن\n",
    "    return diffs_matrix\n",
    "\n",
    "def p_ks(models, x_test):\n",
    "    num_models = len(models)      \n",
    "    scores = [model.predict(x_test) for model in models]       # امتیازات پیش‌بینی‌ها برای هر مدل   \n",
    "    ks_matrix = np.zeros((num_models, num_models))  # ماتریس برای آماره آزمون KS و p-value\n",
    "    pvalue_matrix = np.zeros((num_models, num_models))    \n",
    "    # محاسبه آزمون KS برای هر جفت مدل\n",
    "    for i in range(num_models):\n",
    "        for j in range(i+1, num_models):          \n",
    "            ks_stat, p_value = stats.ks_2samp(scores[i].flatten(), scores[j].flatten())  # محاسبه آزمون KS و دریافت آماره و p-value      \n",
    "            # چک کردن برای جلوگیری از NaN یا Inf\n",
    "            ks_stat = ks_stat if np.isfinite(ks_stat) else 0\n",
    "            p_value = p_value if np.isfinite(p_value) else 1   \n",
    "            # پر کردن ماتریس‌ها\n",
    "            ks_matrix[i, j] = ks_stat\n",
    "            ks_matrix[j, i] = ks_stat  # متقارن\n",
    "            pvalue_matrix[i, j] = p_value\n",
    "            pvalue_matrix[j, i] = p_value  # متقارن   \n",
    "    return ks_matrix, pvalue_matrix\n",
    "\n",
    "def p_x2(models, x_test):\n",
    "    num_models = len(models)    \n",
    "    # پیش‌بینی کلاس‌ها برای هر مدل\n",
    "    preds = [model.predict(x_test).argmax(axis=1) for model in models]    \n",
    "    p_x2 = np.zeros((num_models, num_models))  # ماتریس برای آماره آزمون کای دو و p-value\n",
    "    pvalue_matrix = np.zeros((num_models, num_models))    \n",
    "    # محاسبه آزمون کای دو برای هر جفت مدل\n",
    "    for i in range(num_models):\n",
    "        for j in range(i+1, num_models):\n",
    "            # محاسبه فراوانی کلاس‌های هر دو مدل\n",
    "            bincount_i = np.bincount(preds[i])\n",
    "            bincount_j = np.bincount(preds[j])            \n",
    "            # اطمینان از اینکه هیچ عنصری صفر نباشد (برای جلوگیری از تقسیم بر صفر)\n",
    "            bincount_i = np.where(bincount_i == 0, 1e-9, bincount_i)\n",
    "            bincount_j = np.where(bincount_j == 0, 1e-9, bincount_j)           \n",
    "            x2, p_value = stats.chisquare(bincount_i, bincount_j)         # محاسبه آزمون کای دو و دریافت آماره و p-value     \n",
    "            # چک کردن برای جلوگیری از NaN یا Inf\n",
    "            x2 = x2 if np.isfinite(x2) else 0\n",
    "            p_value = p_value if np.isfinite(p_value) else 1            \n",
    "            # پر کردن ماتریس‌ها\n",
    "            p_x2[i, j] = x2\n",
    "            p_x2[j, i] = x2  # متقارن\n",
    "            pvalue_matrix[i, j] = p_value\n",
    "            pvalue_matrix[j, i] = p_value  # متقارن    \n",
    "    return p_x2, pvalue_matrix"
   ]
  },
  {
   "cell_type": "markdown",
   "id": "e47f553f-2675-4db8-9ec3-ce0e7fc6a873",
   "metadata": {},
   "source": [
    "## Delta class"
   ]
  },
  {
   "cell_type": "code",
   "execution_count": 8,
   "id": "f1b019e7-3bc6-41ef-aa35-6ad49a8f2829",
   "metadata": {
    "scrolled": true
   },
   "outputs": [
    {
     "name": "stdout",
     "output_type": "stream",
     "text": [
      "\n",
      "ِDifference Matrix For MNIST Delta Class:\n",
      "[[   0 2087 2029  805 1931 1868  867 1975 1973  863]\n",
      " [2087    0  649 1977  628  667 1968  587  543 2106]\n",
      " [2029  649    0 1893  616  644 1932  617  600 2074]\n",
      " [ 805 1977 1893    0 1792 1744  808 1841 1847  729]\n",
      " [1931  628  616 1792    0  467 1851  467  474 1950]\n",
      " [1868  667  644 1744  467    0 1779  506  528 1879]\n",
      " [ 867 1968 1932  808 1851 1779    0 1855 1867  777]\n",
      " [1975  587  617 1841  467  506 1855    0  469 1995]\n",
      " [1973  543  600 1847  474  528 1867  469    0 1998]\n",
      " [ 863 2106 2074  729 1950 1879  777 1995 1998    0]]\n"
     ]
    }
   ],
   "source": [
    "# diff_matrix_class_c = delta_class(client_models_c, x_test_c)\n",
    "diff_matrix_class_m = delta_class(client_models_m, x_test_m)\n",
    "\n",
    "# print(\"\\nDifference Matrix For CIFAR Delta Class:\")\n",
    "# print(diff_matrix_class_c)\n",
    "\n",
    "print(\"\\nِDifference Matrix For MNIST Delta Class:\")\n",
    "print(diff_matrix_class_m)\n"
   ]
  },
  {
   "cell_type": "code",
   "execution_count": 65,
   "id": "8d420122-469a-4fbb-a1e9-38bfd3cfbfb4",
   "metadata": {},
   "outputs": [
    {
     "data": {
      "text/plain": [
       "array([0, 4, 5, 6, 9], dtype=int64)"
      ]
     },
     "execution_count": 65,
     "metadata": {},
     "output_type": "execute_result"
    }
   ],
   "source": [
    "def meancal(matrix):\n",
    "    temp = 0\n",
    "    x = matrix.shape[0]    \n",
    "    arrmean = []\n",
    "    \n",
    "    for i in range(0,x):\n",
    "        #print(matrix[i].mean())\n",
    "        temp = ((matrix[i].mean())*10)/9\n",
    "        arrmean.append(temp)\n",
    "    return arrmean\n",
    "temp = meancal(diff_matrix_class_m)\n",
    "def iqrfunc(nparray, multiplier = 1.5):\n",
    "    data = np.array(nparray)\n",
    "    q1 = np.percentile(data,25)\n",
    "    q3 = np.percentile(data,75)\n",
    "    iqr = q3 -q1\n",
    "    lower_bound = q1-(multiplier*1.5)\n",
    "    upper_bound = q3+(multiplier*1.5)\n",
    "    outliers = np.where((data<lower_bound) | (data>upper_bound))[0]\n",
    "    return outliers\n",
    "                        \n",
    "iqrfunc(temp)"
   ]
  },
  {
   "cell_type": "markdown",
   "id": "c0a467d7-1de8-4cd3-b51c-c81e87a62b09",
   "metadata": {},
   "source": [
    "## Delta score "
   ]
  },
  {
   "cell_type": "code",
   "execution_count": 66,
   "id": "6a28f6d5-eadd-44c5-a3c4-3f59c449a88f",
   "metadata": {},
   "outputs": [
    {
     "data": {
      "text/plain": [
       "array([[0.        , 0.04424161, 0.0426726 , 0.01604572, 0.04021139,\n",
       "        0.03863044, 0.01733736, 0.04113601, 0.04104029, 0.01729444],\n",
       "       [0.04424161, 0.        , 0.01503946, 0.04170459, 0.01542144,\n",
       "        0.01578955, 0.04168662, 0.01424946, 0.01299856, 0.04418224],\n",
       "       [0.0426726 , 0.01503946, 0.        , 0.03984931, 0.01471316,\n",
       "        0.01526167, 0.0407267 , 0.01419721, 0.01372406, 0.04349344],\n",
       "       [0.01604572, 0.04170459, 0.03984931, 0.        , 0.03743829,\n",
       "        0.03609448, 0.01605168, 0.03847437, 0.03846978, 0.01452601],\n",
       "       [0.04021139, 0.01542144, 0.01471316, 0.03743829, 0.        ,\n",
       "        0.01098867, 0.03860414, 0.01131845, 0.0110403 , 0.04049689],\n",
       "       [0.03863044, 0.01578955, 0.01526167, 0.03609448, 0.01098867,\n",
       "        0.        , 0.03661956, 0.01168868, 0.01170166, 0.03850681],\n",
       "       [0.01733736, 0.04168662, 0.0407267 , 0.01605168, 0.03860414,\n",
       "        0.03661956, 0.        , 0.03884878, 0.03887408, 0.01548705],\n",
       "       [0.04113601, 0.01424946, 0.01419721, 0.03847437, 0.01131845,\n",
       "        0.01168868, 0.03884878, 0.        , 0.01079185, 0.04143294],\n",
       "       [0.04104029, 0.01299856, 0.01372406, 0.03846978, 0.0110403 ,\n",
       "        0.01170166, 0.03887408, 0.01079185, 0.        , 0.04133239],\n",
       "       [0.01729444, 0.04418224, 0.04349344, 0.01452601, 0.04049689,\n",
       "        0.03850681, 0.01548705, 0.04143294, 0.04133239, 0.        ]])"
      ]
     },
     "execution_count": 66,
     "metadata": {},
     "output_type": "execute_result"
    }
   ],
   "source": [
    "diff_matrix_score_m = delta_score(client_models_m, x_test_m)\n",
    "diff_matrix_score_m"
   ]
  },
  {
   "cell_type": "code",
   "execution_count": 67,
   "id": "37c03627-d75d-4808-91de-3c5c8b5416b2",
   "metadata": {},
   "outputs": [
    {
     "data": {
      "text/plain": [
       "array([], dtype=int64)"
      ]
     },
     "execution_count": 67,
     "metadata": {},
     "output_type": "execute_result"
    }
   ],
   "source": [
    "temp2 = meancal(diff_matrix_score_m)\n",
    "iqrfunc(temp2)"
   ]
  },
  {
   "cell_type": "markdown",
   "id": "56f5ec74-9ceb-438b-b554-df5258d73607",
   "metadata": {},
   "source": [
    "## KS"
   ]
  },
  {
   "cell_type": "code",
   "execution_count": 68,
   "id": "c2eee62b-b96f-478d-b0b0-24507bbb0f67",
   "metadata": {},
   "outputs": [
    {
     "data": {
      "text/plain": [
       "array([], dtype=int64)"
      ]
     },
     "execution_count": 68,
     "metadata": {},
     "output_type": "execute_result"
    }
   ],
   "source": [
    "ks_matrix_m, pvalue_matrix_m = p_ks(client_models_m, x_test_m)\n",
    "temp3 = meancal(ks_matrix_m)\n",
    "iqrfunc(temp3)"
   ]
  },
  {
   "cell_type": "markdown",
   "id": "f11bd78d-bee5-4e74-9f1b-4700ed4a3e40",
   "metadata": {},
   "source": [
    "## chi"
   ]
  },
  {
   "cell_type": "code",
   "execution_count": 69,
   "id": "5fde679f-2291-4903-b0ed-8390b7c1a64f",
   "metadata": {},
   "outputs": [
    {
     "data": {
      "text/plain": [
       "array([0, 5, 6, 7, 9], dtype=int64)"
      ]
     },
     "execution_count": 69,
     "metadata": {},
     "output_type": "execute_result"
    }
   ],
   "source": [
    "x2_matrix_m, pvalue_matrix_m = p_x2(client_models_m, x_test_m)\n",
    "temp4 = meancal(x2_matrix_m)\n",
    "iqrfunc(temp4)"
   ]
  },
  {
   "cell_type": "code",
   "execution_count": null,
   "id": "140d8ce4-ac02-4f7a-8c1b-e73293df547f",
   "metadata": {},
   "outputs": [],
   "source": []
  },
  {
   "cell_type": "code",
   "execution_count": null,
   "id": "24b479ca-12a8-41e7-9164-cec235a59f58",
   "metadata": {},
   "outputs": [],
   "source": []
  },
  {
   "cell_type": "code",
   "execution_count": 7,
   "id": "363a1145-27bd-470d-8184-fe29d1d0aabf",
   "metadata": {},
   "outputs": [],
   "source": [
    "from scipy import stats\n",
    "\n",
    "def combine_matrices(models, x_test):\n",
    "    # دریافت خروجی‌های چهار تابع\n",
    "    delta_class_matrix = delta_class(models, x_test)\n",
    "    delta_score_matrix = delta_score(models, x_test)\n",
    "    ks_matrix, _ = p_ks(models, x_test)  # فقط ks_matrix را می‌گیریم\n",
    "    x2_matrix, _ = p_x2(models, x_test)  # فقط x2_matrix را می‌گیریم\n",
    "\n",
    "    # ترکیب همه ماتریس‌ها\n",
    "    combined_matrix = np.stack([delta_class_matrix, delta_score_matrix, ks_matrix, x2_matrix], axis=2)\n",
    "    \n",
    "    # محاسبه میانه برای هر عنصر\n",
    "    median_matrix = np.median(combined_matrix, axis=2)\n",
    "\n",
    "    return median_matrix"
   ]
  },
  {
   "cell_type": "code",
   "execution_count": 8,
   "id": "dcbbf746-68db-4742-83b5-534e9bef4f05",
   "metadata": {},
   "outputs": [],
   "source": [
    "def dbscan(distance_matrix, eps, min_samples):\n",
    "    n = distance_matrix.shape[0]\n",
    "    labels = -1 * np.ones(n)  # -1: برای نقاط outlier\n",
    "    \n",
    "    for i in range(n):\n",
    "        if labels[i] != -1:  # اگر نقطه قبلا برچسب خورده باشد، رد می‌شود\n",
    "            continue\n",
    "        \n",
    "        # پیدا کردن همسایگان نقطه i\n",
    "        neighbors = np.where(distance_matrix[i] <= eps)[0]\n",
    "        \n",
    "        if len(neighbors) < min_samples:\n",
    "            labels[i] = -1  # outlier\n",
    "        else:\n",
    "            labels[i] = 0  # برای نقاطی که outlier نیستند، برچسب 0 گذاشته می‌شود\n",
    "\n",
    "    outliers = np.where(labels == -1)[0]\n",
    "    return outliers\n"
   ]
  },
  {
   "cell_type": "code",
   "execution_count": 9,
   "id": "e825ea19-4761-4c1d-907e-516079c9d3b6",
   "metadata": {},
   "outputs": [
    {
     "name": "stdout",
     "output_type": "stream",
     "text": [
      "[0 3 6 9]\n"
     ]
    }
   ],
   "source": [
    "def automatic_eps_min_samples(median_matrix, num_clients):\n",
    "    # محاسبه محدوده داده‌ها\n",
    "    min_distance = np.min(median_matrix)\n",
    "    max_distance = np.max(median_matrix)\n",
    "    \n",
    "    # تنظیم eps به عنوان درصدی از محدوده\n",
    "    eps = 0.1 * (max_distance - min_distance)  # می‌توانید درصد را تنظیم کنید\n",
    "\n",
    "    # تنظیم min_samples بر اساس تعداد کلاینت‌ها\n",
    "    min_samples = max(2, num_clients // 2)  # حداقل 2 و حداکثر نصف تعداد کلاینت‌ها\n",
    "\n",
    "    return eps, min_samples\n",
    "\n",
    "# استفاده از تابع\n",
    "median_matrix = combine_matrices(client_models_m, x_test_m)\n",
    "num_clients = len(client_models_m)  # تعداد کلاینت‌ها\n",
    "eps, min_samples = automatic_eps_min_samples(median_matrix, num_clients)\n",
    "median=combine_matrices(client_models_m, x_test_m)\n",
    "outleir=dbscan(median, eps, min_samples)\n",
    "print(outleir)\n"
   ]
  },
  {
   "cell_type": "code",
   "execution_count": 35,
   "id": "3f147127-685c-4664-a195-77c0381df989",
   "metadata": {},
   "outputs": [
    {
     "name": "stdout",
     "output_type": "stream",
     "text": [
      "Round 1 metrics: OrderedDict([('broadcast', ()), ('aggregation', OrderedDict([('value_sum_process', ()), ('weight_sum_process', ())])), ('train', OrderedDict([('categorical_accuracy', 0.80935), ('loss', 0.60675085)]))])\n",
      "Round 2 metrics: OrderedDict([('broadcast', ()), ('aggregation', OrderedDict([('value_sum_process', ()), ('weight_sum_process', ())])), ('train', OrderedDict([('categorical_accuracy', 0.9001333), ('loss', 0.32920736)]))])\n",
      "Round 3 metrics: OrderedDict([('broadcast', ()), ('aggregation', OrderedDict([('value_sum_process', ()), ('weight_sum_process', ())])), ('train', OrderedDict([('categorical_accuracy', 0.92396665), ('loss', 0.25675794)]))])\n",
      "Round 4 metrics: OrderedDict([('broadcast', ()), ('aggregation', OrderedDict([('value_sum_process', ()), ('weight_sum_process', ())])), ('train', OrderedDict([('categorical_accuracy', 0.9355), ('loss', 0.22019647)]))])\n",
      "Round 5 metrics: OrderedDict([('broadcast', ()), ('aggregation', OrderedDict([('value_sum_process', ()), ('weight_sum_process', ())])), ('train', OrderedDict([('categorical_accuracy', 0.9428333), ('loss', 0.20165376)]))])\n",
      "Round 6 metrics: OrderedDict([('broadcast', ()), ('aggregation', OrderedDict([('value_sum_process', ()), ('weight_sum_process', ())])), ('train', OrderedDict([('categorical_accuracy', 0.9482833), ('loss', 0.18610458)]))])\n",
      "Round 7 metrics: OrderedDict([('broadcast', ()), ('aggregation', OrderedDict([('value_sum_process', ()), ('weight_sum_process', ())])), ('train', OrderedDict([('categorical_accuracy', 0.95265), ('loss', 0.17774697)]))])\n",
      "Round 8 metrics: OrderedDict([('broadcast', ()), ('aggregation', OrderedDict([('value_sum_process', ()), ('weight_sum_process', ())])), ('train', OrderedDict([('categorical_accuracy', 0.9546667), ('loss', 0.16964802)]))])\n",
      "Round 9 metrics: OrderedDict([('broadcast', ()), ('aggregation', OrderedDict([('value_sum_process', ()), ('weight_sum_process', ())])), ('train', OrderedDict([('categorical_accuracy', 0.9566), ('loss', 0.16272749)]))])\n",
      "Round 10 metrics: OrderedDict([('broadcast', ()), ('aggregation', OrderedDict([('value_sum_process', ()), ('weight_sum_process', ())])), ('train', OrderedDict([('categorical_accuracy', 0.9594333), ('loss', 0.15885413)]))])\n"
     ]
    }
   ],
   "source": [
    "import tensorflow as tf\n",
    "import numpy as np\n",
    "import tensorflow_federated as tff\n",
    "from tensorflow.keras.datasets import mnist\n",
    "\n",
    "# بارگذاری داده‌ها\n",
    "(x_train_m, y_train_m), (x_test_m, y_test_m) = mnist.load_data()\n",
    "\n",
    "# نرمال‌سازی داده‌ها\n",
    "x_train_m = x_train_m.astype('float32') / 255.0\n",
    "x_test_m = x_test_m.astype('float32') / 255.0\n",
    "\n",
    "# تغییر شکل داده‌ها برای MLP\n",
    "x_train_m = x_train_m.reshape((x_train_m.shape[0], -1))  # تبدیل به (batch_size, 784)\n",
    "x_test_m = x_test_m.reshape((x_test_m.shape[0], -1))    # تبدیل به (batch_size, 784)\n",
    "\n",
    "# کدگذاری برچسب‌ها\n",
    "y_train_m = tf.keras.utils.to_categorical(y_train_m, 10)\n",
    "y_test_m = tf.keras.utils.to_categorical(y_test_m, 10)\n",
    "\n",
    "# تقسیم داده‌ها بین کلاینت‌ها\n",
    "def split_data(x, y, num_splits):\n",
    "    indices = np.arange(x.shape[0])\n",
    "    np.random.shuffle(indices)\n",
    "    split_indices = np.array_split(indices, num_splits)\n",
    "    split_data = [(x[indices], y[indices]) for indices in split_indices]  \n",
    "    return split_data\n",
    "\n",
    "num_models = 10\n",
    "client_data_m = split_data(x_train_m, y_train_m, num_models)\n",
    "\n",
    "# تعریف مدل Keras برای MNIST\n",
    "def create_keras_mnist_model():\n",
    "    model = tf.keras.models.Sequential([\n",
    "        tf.keras.layers.Flatten(input_shape=(784,)),\n",
    "        tf.keras.layers.Dense(512, activation='relu'),\n",
    "        tf.keras.layers.Dropout(0.3),\n",
    "        tf.keras.layers.Dense(512, activation='relu'),\n",
    "        tf.keras.layers.Dropout(0.5),\n",
    "        tf.keras.layers.Dense(10, activation='softmax')\n",
    "    ])\n",
    "    return model\n",
    "\n",
    "# تبدیل مدل Keras به مدل فدرال TFF\n",
    "def model_fn():\n",
    "    keras_model = create_keras_mnist_model()\n",
    "    return tff.learning.from_keras_model(\n",
    "        keras_model=keras_model,\n",
    "        input_spec=(tf.TensorSpec(shape=[None, 784], dtype=tf.float32),\n",
    "                    tf.TensorSpec(shape=[None, 10], dtype=tf.float32)),\n",
    "        loss=tf.keras.losses.CategoricalCrossentropy(),\n",
    "        metrics=[tf.keras.metrics.CategoricalAccuracy()]\n",
    "    )\n",
    "\n",
    "def client_optimizer_fn():\n",
    "    return tf.keras.optimizers.Adam(learning_rate=0.001)\n",
    "\n",
    "# ساخت فرآیند میانگین‌گیری فدرال با بهینه‌ساز کلاینت‌ها\n",
    "iterative_process = tff.learning.build_federated_averaging_process(\n",
    "    model_fn=model_fn,\n",
    "    client_optimizer_fn=client_optimizer_fn\n",
    ")\n",
    "\n",
    "# آغاز یادگیری فدرال\n",
    "state = iterative_process.initialize()\n",
    "\n",
    "# اجرای حلقه آموزش فدرال\n",
    "total_rounds = 10\n",
    "round_counter = 0\n",
    "\n",
    "while round_counter < total_rounds:\n",
    "    round_counter += 1\n",
    "    \n",
    "    # Create TensorFlow datasets for each client\n",
    "    federated_data = [\n",
    "        tf.data.Dataset.from_tensor_slices((client_data_m[i][0], client_data_m[i][1]))\n",
    "        .batch(20)\n",
    "        for i in range(num_models)\n",
    "    ]                   \n",
    "    \n",
    "    # انجام یک راند آموزش فدرال\n",
    "    state, metrics = iterative_process.next(state, federated_data)\n",
    "    print(f'Round {round_counter} metrics: {metrics}')\n",
    "\n",
    "    # # اجرای دیباگ هر 3 راند یک‌بار\n",
    "    # if round_counter == 1 or round_counter % 3 == 0:\n",
    "    #     # محاسبه ماتریس فاصله‌ها\n",
    "    #     median_matrix = combine_matrices(client_models_m, x_test_m)\n",
    "\n",
    "    #     # محاسبه eps و min_samples\n",
    "    #     num_clients = len(client_models_m)\n",
    "    #     eps, min_samples = automatic_eps_min_samples(median_matrix, num_clients)\n",
    "\n",
    "    #     # اجرای فرایند DBSCAN برای شناسایی کلاینت‌های مشکل‌دار\n",
    "    #     outliers = dbscan(median_matrix, eps, min_samples)\n",
    "    #     print(f'Outliers after round {round_counter}: {outliers}')\n"
   ]
  },
  {
   "cell_type": "code",
   "execution_count": 37,
   "id": "ad35d175-b366-450a-bcc7-196862739cb4",
   "metadata": {},
   "outputs": [
    {
     "name": "stdout",
     "output_type": "stream",
     "text": [
      "Round 1 metrics: OrderedDict([('broadcast', ()), ('aggregation', OrderedDict([('value_sum_process', ()), ('weight_sum_process', ())])), ('train', OrderedDict([('categorical_accuracy', 0.80845), ('loss', 0.6092876)]))])\n"
     ]
    },
    {
     "ename": "NameError",
     "evalue": "name 'combined_process' is not defined",
     "output_type": "error",
     "traceback": [
      "\u001b[1;31m---------------------------------------------------------------------------\u001b[0m",
      "\u001b[1;31mNameError\u001b[0m                                 Traceback (most recent call last)",
      "Cell \u001b[1;32mIn[37], line 89\u001b[0m\n\u001b[0;32m     85\u001b[0m \u001b[38;5;66;03m# # اجرای دیباگ هر 3 راند یک‌بار\u001b[39;00m\n\u001b[0;32m     86\u001b[0m \u001b[38;5;66;03m# if round_counter == 1 or round_counter % 3 == 0:\u001b[39;00m\n\u001b[0;32m     87\u001b[0m \u001b[38;5;66;03m#     # محاسبه ماتریس فاصله‌ها\u001b[39;00m\n\u001b[0;32m     88\u001b[0m num_clients \u001b[38;5;241m=\u001b[39m \u001b[38;5;28mlen\u001b[39m(client_models_m)  \u001b[38;5;66;03m# تعداد کلاینت‌ها\u001b[39;00m\n\u001b[1;32m---> 89\u001b[0m outliers \u001b[38;5;241m=\u001b[39m \u001b[43mcombined_process\u001b[49m(client_models_m, x_test_m, num_clients)\n\u001b[0;32m     90\u001b[0m \u001b[38;5;28mprint\u001b[39m(outliers)\n\u001b[0;32m     92\u001b[0m \u001b[38;5;66;03m# اجرای فرایند DBSCAN برای شناسایی کلاینت‌های مشکل‌دار\u001b[39;00m\n",
      "\u001b[1;31mNameError\u001b[0m: name 'combined_process' is not defined"
     ]
    }
   ],
   "source": [
    "import tensorflow as tf\n",
    "import numpy as np\n",
    "import tensorflow_federated as tff\n",
    "from tensorflow.keras.datasets import mnist\n",
    "\n",
    "# بارگذاری داده‌ها\n",
    "(x_train_m, y_train_m), (x_test_m, y_test_m) = mnist.load_data()\n",
    "\n",
    "# نرمال‌سازی داده‌ها\n",
    "x_train_m = x_train_m.astype('float32') / 255.0\n",
    "x_test_m = x_test_m.astype('float32') / 255.0\n",
    "\n",
    "# تغییر شکل داده‌ها برای MLP\n",
    "x_train_m = x_train_m.reshape((x_train_m.shape[0], -1))  # تبدیل به (batch_size, 784)\n",
    "x_test_m = x_test_m.reshape((x_test_m.shape[0], -1))    # تبدیل به (batch_size, 784)\n",
    "\n",
    "# کدگذاری برچسب‌ها\n",
    "y_train_m = tf.keras.utils.to_categorical(y_train_m, 10)\n",
    "y_test_m = tf.keras.utils.to_categorical(y_test_m, 10)\n",
    "\n",
    "# تقسیم داده‌ها بین کلاینت‌ها\n",
    "def split_data(x, y, num_splits):\n",
    "    indices = np.arange(x.shape[0])\n",
    "    np.random.shuffle(indices)\n",
    "    split_indices = np.array_split(indices, num_splits)\n",
    "    split_data = [(x[indices], y[indices]) for indices in split_indices]  \n",
    "    return split_data\n",
    "\n",
    "num_models = 10\n",
    "client_data_m = split_data(x_train_m, y_train_m, num_models)\n",
    "\n",
    "# تعریف مدل Keras برای MNIST\n",
    "def create_keras_mnist_model():\n",
    "    model = tf.keras.models.Sequential([\n",
    "        tf.keras.layers.Flatten(input_shape=(784,)),\n",
    "        tf.keras.layers.Dense(512, activation='relu'),\n",
    "        tf.keras.layers.Dropout(0.3),\n",
    "        tf.keras.layers.Dense(512, activation='relu'),\n",
    "        tf.keras.layers.Dropout(0.5),\n",
    "        tf.keras.layers.Dense(10, activation='softmax')\n",
    "    ])\n",
    "    return model\n",
    "\n",
    "# تبدیل مدل Keras به مدل فدرال TFF\n",
    "def model_fn():\n",
    "    keras_model = create_keras_mnist_model()\n",
    "    return tff.learning.from_keras_model(\n",
    "        keras_model=keras_model,\n",
    "        input_spec=(tf.TensorSpec(shape=[None, 784], dtype=tf.float32),\n",
    "                    tf.TensorSpec(shape=[None, 10], dtype=tf.float32)),\n",
    "        loss=tf.keras.losses.CategoricalCrossentropy(),\n",
    "        metrics=[tf.keras.metrics.CategoricalAccuracy()]\n",
    "    )\n",
    "\n",
    "def client_optimizer_fn():\n",
    "    return tf.keras.optimizers.Adam(learning_rate=0.001)\n",
    "\n",
    "# ساخت فرآیند میانگین‌گیری فدرال با بهینه‌ساز کلاینت‌ها\n",
    "iterative_process = tff.learning.build_federated_averaging_process(\n",
    "    model_fn=model_fn,\n",
    "    client_optimizer_fn=client_optimizer_fn\n",
    ")\n",
    "\n",
    "# آغاز یادگیری فدرال\n",
    "state = iterative_process.initialize()\n",
    "\n",
    "# اجرای حلقه آموزش فدرال\n",
    "total_rounds = 10\n",
    "round_counter = 0\n",
    "\n",
    "while round_counter < total_rounds:\n",
    "    round_counter += 1\n",
    "    \n",
    "    # Create TensorFlow datasets for each client\n",
    "    federated_data = [\n",
    "        tf.data.Dataset.from_tensor_slices((client_data_m[i][0], client_data_m[i][1]))\n",
    "        .batch(20)\n",
    "        for i in range(num_models)\n",
    "    ]                   \n",
    "    \n",
    "    # انجام یک راند آموزش فدرال\n",
    "    state, metrics = iterative_process.next(state, federated_data)\n",
    "    print(f'Round {round_counter} metrics: {metrics}')\n",
    "\n",
    "    # # اجرای دیباگ هر 3 راند یک‌بار\n",
    "    # if round_counter == 1 or round_counter % 3 == 0:\n",
    "    #     # محاسبه ماتریس فاصله‌ها\n",
    "    num_clients = len(client_models_m)  # تعداد کلاینت‌ها\n",
    "    outliers = combined_process(client_models_m, x_test_m, num_clients)\n",
    "    print(outliers)\n",
    "\n",
    "    # اجرای فرایند DBSCAN برای شناسایی کلاینت‌های مشکل‌دار\n",
    "    outliers = dbscan(median_matrix, eps, min_samples)\n",
    "    print(f'Outliers after round {round_counter}: {outliers}')\n"
   ]
  },
  {
   "cell_type": "code",
   "execution_count": null,
   "id": "aba73ca9-b1f8-42c1-90ce-fb719ca01226",
   "metadata": {},
   "outputs": [],
   "source": []
  }
 ],
 "metadata": {
  "kernelspec": {
   "display_name": "tf_fed_env",
   "language": "python",
   "name": "python3"
  },
  "language_info": {
   "codemirror_mode": {
    "name": "ipython",
    "version": 3
   },
   "file_extension": ".py",
   "mimetype": "text/x-python",
   "name": "python",
   "nbconvert_exporter": "python",
   "pygments_lexer": "ipython3",
   "version": "3.7.16"
  }
 },
 "nbformat": 4,
 "nbformat_minor": 5
}
